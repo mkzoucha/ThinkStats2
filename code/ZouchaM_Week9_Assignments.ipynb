{
 "cells": [
  {
   "cell_type": "markdown",
   "metadata": {},
   "source": [
    "# Examples and Exercises from Think Stats, 2nd Edition\n",
    "\n",
    "http://thinkstats2.com\n",
    "\n",
    "Copyright 2016 Allen B. Downey\n",
    "\n",
    "MIT License: https://opensource.org/licenses/MIT\n"
   ]
  },
  {
   "cell_type": "code",
   "execution_count": 1,
   "metadata": {},
   "outputs": [],
   "source": [
    "from __future__ import print_function, division\n",
    "\n",
    "%matplotlib inline\n",
    "\n",
    "import numpy as np\n",
    "import pandas as pd\n",
    "\n",
    "import random\n",
    "\n",
    "import thinkstats2\n",
    "import thinkplot"
   ]
  },
  {
   "cell_type": "markdown",
   "metadata": {
    "collapsed": true
   },
   "source": [
    "## Exercises"
   ]
  },
  {
   "cell_type": "markdown",
   "metadata": {
    "collapsed": true
   },
   "source": [
    "**Exercise:** Suppose one of your co-workers is expecting a baby and you are participating in an office pool to predict the date of birth. Assuming that bets are placed during the 30th week of pregnancy, what variables could you use to make the best prediction? You should limit yourself to variables that are known before the birth, and likely to be available to the people in the pool."
   ]
  },
  {
   "cell_type": "markdown",
   "metadata": {},
   "source": [
    "The following are the only variables I found that have a statistically significant effect on pregnancy length."
   ]
  },
  {
   "cell_type": "code",
   "execution_count": 4,
   "metadata": {},
   "outputs": [
    {
     "name": "stdout",
     "output_type": "stream",
     "text": [
      "                            OLS Regression Results                            \n",
      "==============================================================================\n",
      "Dep. Variable:               prglngth   R-squared:                       0.014\n",
      "Model:                            OLS   Adj. R-squared:                  0.004\n",
      "Method:                 Least Squares   F-statistic:                     1.397\n",
      "Date:                Tue, 26 Oct 2021   Prob (F-statistic):              0.234\n",
      "Time:                        10:06:11   Log-Likelihood:                -868.65\n",
      "No. Observations:                 404   AIC:                             1747.\n",
      "Df Residuals:                     399   BIC:                             1767.\n",
      "Df Model:                           4                                         \n",
      "Covariance Type:            nonrobust                                         \n",
      "==============================================================================\n",
      "                 coef    std err          t      P>|t|      [0.025      0.975]\n",
      "------------------------------------------------------------------------------\n",
      "Intercept     39.7220      0.531     74.796      0.000      38.678      40.766\n",
      "birthord       0.0692      0.102      0.680      0.497      -0.131       0.269\n",
      "npostsmk      -0.0173      0.098     -0.176      0.860      -0.210       0.176\n",
      "workpreg      -0.1144      0.054     -2.103      0.036      -0.221      -0.007\n",
      "agecon        -0.0003      0.000     -1.461      0.145      -0.001    9.75e-05\n",
      "==============================================================================\n",
      "Omnibus:                       36.078   Durbin-Watson:                   1.860\n",
      "Prob(Omnibus):                  0.000   Jarque-Bera (JB):               58.954\n",
      "Skew:                          -0.582   Prob(JB):                     1.58e-13\n",
      "Kurtosis:                       4.465   Cond. No.                     1.31e+04\n",
      "==============================================================================\n",
      "\n",
      "Notes:\n",
      "[1] Standard Errors assume that the covariance matrix of the errors is correctly specified.\n",
      "[2] The condition number is large, 1.31e+04. This might indicate that there are\n",
      "strong multicollinearity or other numerical problems.\n"
     ]
    }
   ],
   "source": [
    "import statsmodels.formula.api as smf\n",
    "import first\n",
    "import nsfg\n",
    "\n",
    "live, firsts, others = first.MakeFrames()\n",
    "live = live[live.prglngth>30]\n",
    "\n",
    "model = smf.ols('prglngth ~ birthord + npostsmk + workpreg + agecon', data=live)\n",
    "results = model.fit()\n",
    "print(results.summary())"
   ]
  },
  {
   "cell_type": "markdown",
   "metadata": {},
   "source": [
    "**Exercise:** If the quantity you want to predict is a count, you can use Poisson regression, which is implemented in StatsModels with a function called `poisson`. It works the same way as `ols` and `logit`. As an exercise, let’s use it to predict how many children a woman has born; in the NSFG dataset, this variable is called `numbabes`.\n",
    "\n",
    "Suppose you meet a woman who is 35 years old, black, and a college graduate whose annual household income exceeds $75,000. How many children would you predict she has born?"
   ]
  },
  {
   "cell_type": "code",
   "execution_count": 5,
   "metadata": {},
   "outputs": [
    {
     "name": "stdout",
     "output_type": "stream",
     "text": [
      "Optimization terminated successfully.\n",
      "         Current function value: 1.677002\n",
      "         Iterations 7\n",
      "                          Poisson Regression Results                          \n",
      "==============================================================================\n",
      "Dep. Variable:               numbabes   No. Observations:                 8884\n",
      "Model:                        Poisson   Df Residuals:                     8877\n",
      "Method:                           MLE   Df Model:                            6\n",
      "Date:                Tue, 26 Oct 2021   Pseudo R-squ.:                 0.03686\n",
      "Time:                        10:06:32   Log-Likelihood:                -14898.\n",
      "converged:                       True   LL-Null:                       -15469.\n",
      "Covariance Type:            nonrobust   LLR p-value:                3.681e-243\n",
      "================================================================================\n",
      "                   coef    std err          z      P>|z|      [0.025      0.975]\n",
      "--------------------------------------------------------------------------------\n",
      "Intercept       -1.0324      0.169     -6.098      0.000      -1.364      -0.701\n",
      "C(race)[T.2]    -0.1401      0.015     -9.479      0.000      -0.169      -0.111\n",
      "C(race)[T.3]    -0.0991      0.025     -4.029      0.000      -0.147      -0.051\n",
      "age_r            0.1556      0.010     15.006      0.000       0.135       0.176\n",
      "age2            -0.0020      0.000    -13.102      0.000      -0.002      -0.002\n",
      "totincr         -0.0187      0.002     -9.830      0.000      -0.022      -0.015\n",
      "educat          -0.0471      0.003    -16.076      0.000      -0.053      -0.041\n",
      "================================================================================\n"
     ]
    }
   ],
   "source": [
    "resp = nsfg.ReadFemResp()\n",
    "resp.index = resp.caseid\n",
    "join = live.join(resp, on='caseid', rsuffix='_r')\n",
    "\n",
    "join['age2'] = join.age_r**2\n",
    "formula='numbabes ~ age_r + age2 + C(race) + totincr + educat'\n",
    "model = smf.poisson(formula, data=join)\n",
    "results = model.fit()\n",
    "print(results.summary())"
   ]
  },
  {
   "cell_type": "markdown",
   "metadata": {},
   "source": [
    "Now we can predict the number of children for a woman who is 35 years old, black, and a college\n",
    "graduate whose annual household income exceeds $75,000"
   ]
  },
  {
   "cell_type": "code",
   "execution_count": 6,
   "metadata": {},
   "outputs": [
    {
     "name": "stdout",
     "output_type": "stream",
     "text": [
      "0    2.496802\n",
      "dtype: float64\n"
     ]
    }
   ],
   "source": [
    "columns = ['age_r', 'age2', 'race', 'totincr', 'educat']\n",
    "new = pd.DataFrame([[35, 35**2, 1, 14, 16]], columns=columns)\n",
    "print(results.predict(new))"
   ]
  },
  {
   "cell_type": "markdown",
   "metadata": {},
   "source": [
    "**Exercise:** If the quantity you want to predict is categorical, you can use multinomial logistic regression, which is implemented in StatsModels with a function called `mnlogit`. As an exercise, let’s use it to guess whether a woman is married, cohabitating, widowed, divorced, separated, or never married; in the NSFG dataset, marital status is encoded in a variable called `rmarital`.\n",
    "\n",
    "Suppose you meet a woman who is 25 years old, white, and a high school graduate whose annual household income is about $45,000. What is the probability that she is married, cohabitating, etc?"
   ]
  },
  {
   "cell_type": "code",
   "execution_count": 7,
   "metadata": {},
   "outputs": [
    {
     "name": "stdout",
     "output_type": "stream",
     "text": [
      "Optimization terminated successfully.\n",
      "         Current function value: 1.084053\n",
      "         Iterations 8\n",
      "                          MNLogit Regression Results                          \n",
      "==============================================================================\n",
      "Dep. Variable:               rmarital   No. Observations:                 8884\n",
      "Model:                        MNLogit   Df Residuals:                     8849\n",
      "Method:                           MLE   Df Model:                           30\n",
      "Date:                Tue, 26 Oct 2021   Pseudo R-squ.:                  0.1682\n",
      "Time:                        10:06:40   Log-Likelihood:                -9630.7\n",
      "converged:                       True   LL-Null:                       -11579.\n",
      "Covariance Type:            nonrobust   LLR p-value:                     0.000\n",
      "================================================================================\n",
      "  rmarital=2       coef    std err          z      P>|z|      [0.025      0.975]\n",
      "--------------------------------------------------------------------------------\n",
      "Intercept        9.0156      0.805     11.199      0.000       7.438      10.593\n",
      "C(race)[T.2]    -0.9237      0.089    -10.418      0.000      -1.097      -0.750\n",
      "C(race)[T.3]    -0.6179      0.136     -4.536      0.000      -0.885      -0.351\n",
      "age_r           -0.3635      0.051     -7.150      0.000      -0.463      -0.264\n",
      "age2             0.0048      0.001      6.103      0.000       0.003       0.006\n",
      "totincr         -0.1310      0.012    -11.337      0.000      -0.154      -0.108\n",
      "educat          -0.1953      0.019    -10.424      0.000      -0.232      -0.159\n",
      "--------------------------------------------------------------------------------\n",
      "  rmarital=3       coef    std err          z      P>|z|      [0.025      0.975]\n",
      "--------------------------------------------------------------------------------\n",
      "Intercept        2.9570      3.020      0.979      0.328      -2.963       8.877\n",
      "C(race)[T.2]    -0.4411      0.237     -1.863      0.062      -0.905       0.023\n",
      "C(race)[T.3]     0.0591      0.336      0.176      0.860      -0.600       0.718\n",
      "age_r           -0.3177      0.177     -1.798      0.072      -0.664       0.029\n",
      "age2             0.0064      0.003      2.528      0.011       0.001       0.011\n",
      "totincr         -0.3258      0.032    -10.175      0.000      -0.389      -0.263\n",
      "educat          -0.0991      0.048     -2.050      0.040      -0.194      -0.004\n",
      "--------------------------------------------------------------------------------\n",
      "  rmarital=4       coef    std err          z      P>|z|      [0.025      0.975]\n",
      "--------------------------------------------------------------------------------\n",
      "Intercept       -3.5238      1.205     -2.924      0.003      -5.886      -1.162\n",
      "C(race)[T.2]    -0.3213      0.093     -3.445      0.001      -0.504      -0.139\n",
      "C(race)[T.3]    -0.7706      0.171     -4.509      0.000      -1.106      -0.436\n",
      "age_r            0.1155      0.071      1.626      0.104      -0.024       0.255\n",
      "age2            -0.0007      0.001     -0.701      0.483      -0.003       0.001\n",
      "totincr         -0.2276      0.012    -19.621      0.000      -0.250      -0.205\n",
      "educat           0.0667      0.017      3.995      0.000       0.034       0.099\n",
      "--------------------------------------------------------------------------------\n",
      "  rmarital=5       coef    std err          z      P>|z|      [0.025      0.975]\n",
      "--------------------------------------------------------------------------------\n",
      "Intercept       -2.8963      1.305     -2.220      0.026      -5.453      -0.339\n",
      "C(race)[T.2]    -1.0407      0.104    -10.038      0.000      -1.244      -0.837\n",
      "C(race)[T.3]    -0.5661      0.156     -3.635      0.000      -0.871      -0.261\n",
      "age_r            0.2411      0.079      3.038      0.002       0.086       0.397\n",
      "age2            -0.0035      0.001     -2.977      0.003      -0.006      -0.001\n",
      "totincr         -0.2932      0.015    -20.159      0.000      -0.322      -0.265\n",
      "educat          -0.0174      0.021     -0.813      0.416      -0.059       0.025\n",
      "--------------------------------------------------------------------------------\n",
      "  rmarital=6       coef    std err          z      P>|z|      [0.025      0.975]\n",
      "--------------------------------------------------------------------------------\n",
      "Intercept        8.0533      0.814      9.890      0.000       6.457       9.649\n",
      "C(race)[T.2]    -2.1871      0.080    -27.211      0.000      -2.345      -2.030\n",
      "C(race)[T.3]    -1.9611      0.138    -14.188      0.000      -2.232      -1.690\n",
      "age_r           -0.2127      0.052     -4.122      0.000      -0.314      -0.112\n",
      "age2             0.0019      0.001      2.321      0.020       0.000       0.003\n",
      "totincr         -0.2945      0.012    -25.320      0.000      -0.317      -0.272\n",
      "educat          -0.0742      0.018     -4.169      0.000      -0.109      -0.039\n",
      "================================================================================\n"
     ]
    }
   ],
   "source": [
    "formula='rmarital ~ age_r + age2 + C(race) + totincr + educat'\n",
    "model = smf.mnlogit(formula, data=join)\n",
    "results = model.fit()\n",
    "print(results.summary())"
   ]
  },
  {
   "cell_type": "markdown",
   "metadata": {},
   "source": [
    "Make a prediction for a woman who is 25 years old, white, and a high\n",
    "school graduate whose annual household income is about $45,000."
   ]
  },
  {
   "cell_type": "code",
   "execution_count": 8,
   "metadata": {},
   "outputs": [
    {
     "name": "stdout",
     "output_type": "stream",
     "text": [
      "          0         1         2         3         4         5\n",
      "0  0.750028  0.126397  0.001564  0.033403  0.021485  0.067122\n"
     ]
    }
   ],
   "source": [
    "columns = ['age_r', 'age2', 'race', 'totincr', 'educat']\n",
    "new = pd.DataFrame([[25, 25**2, 2, 11, 12]], columns=columns)\n",
    "print(results.predict(new))"
   ]
  },
  {
   "cell_type": "markdown",
   "metadata": {
    "pycharm": {
     "name": "#%% md\n"
    }
   },
   "source": []
  }
 ],
 "metadata": {
  "kernelspec": {
   "display_name": "Python 3",
   "language": "python",
   "name": "python3"
  },
  "language_info": {
   "codemirror_mode": {
    "name": "ipython",
    "version": 3
   },
   "file_extension": ".py",
   "mimetype": "text/x-python",
   "name": "python",
   "nbconvert_exporter": "python",
   "pygments_lexer": "ipython3",
   "version": "3.7.2"
  }
 },
 "nbformat": 4,
 "nbformat_minor": 1
}