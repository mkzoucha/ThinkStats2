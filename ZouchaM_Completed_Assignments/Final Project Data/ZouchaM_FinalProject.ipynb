{
 "cells": [
  {
   "cell_type": "code",
   "execution_count": 45,
   "metadata": {
    "collapsed": true
   },
   "outputs": [],
   "source": [
    "import pandas"
   ]
  },
  {
   "cell_type": "code",
   "execution_count": 46,
   "outputs": [],
   "source": [
    "## Load CSV files to data frame for merging\n",
    "salesorderdetail_df = pandas.read_csv(\"SalesOrderDetail.csv\")\n",
    "\n",
    "salesorderheader_df = pandas.read_csv(\"SalesOrderHeader.csv\")\n",
    "\n",
    "salesterritory_df = pandas.read_csv(\"SalesTerritory.csv\")\n",
    "\n",
    "specialoffer_df = pandas.read_csv(\"SpecialOffer.csv\")\n",
    "\n",
    "productdetails_df = pandas.read_csv(\"ProductDetails.csv\")\n",
    "\n",
    "productcategory_df = pandas.read_csv(\"ProductCategory.csv\")\n",
    "\n",
    "productsubcategory_df = pandas.read_csv(\"ProductSubcategory.csv\")"
   ],
   "metadata": {
    "collapsed": false,
    "pycharm": {
     "name": "#%%\n"
    }
   }
  },
  {
   "cell_type": "code",
   "execution_count": 47,
   "outputs": [],
   "source": [
    "## Parse down to necessary data using select function\n",
    "salesorderdetail_df = salesorderdetail_df[[\"SalesOrderID\", \"OrderQty\",  \"ProductID\", \"SpecialOfferID\", \"UnitPrice\", \"LineTotal\"]]\n",
    "\n",
    "salesorderheader_df = salesorderheader_df[[\"TerritoryID\", \"SalesOrderID\", \"OrderDate\"]]\n",
    "\n",
    "salesterritory_df = salesterritory_df[[\"Name\", \"CountryRegionCode\", \"Group\", \"TerritoryID\"]]\n",
    "\n",
    "specialoffer_df = specialoffer_df[[\"SpecialOfferID\", \"Description\", \"Type\", \"Category\"]]\n",
    "\n",
    "productdetails_df = productdetails_df[[\"ProductID\", \"Name\", \"ProductNumber\", \"Color\", \"StandardCost\", \"ListPrice\", \"ProductSubcategoryID\"]]\n",
    "\n",
    "productcategory_df = productcategory_df[[\"ProductCategoryID\", \"Name\"]]\n",
    "\n",
    "productsubcategory_df = productsubcategory_df[[\"ProductSubcategoryID\", \"Name\", \"ProductCategoryID\"]]"
   ],
   "metadata": {
    "collapsed": false,
    "pycharm": {
     "name": "#%%\n"
    }
   }
  },
  {
   "cell_type": "code",
   "execution_count": 48,
   "outputs": [],
   "source": [
    "## Combine Product Data Frames, rename columns appropriately\n",
    "## Left join product_subcategory_df to product_details_df on ProductSubcategoryID\n",
    "## Left join product_category_df to newly merged product_details_df on 'new' ProductCategoryID column\n",
    "product_merged_df = productdetails_df.merge(productsubcategory_df, how = \"left\", left_on = \"ProductSubcategoryID\", right_on = \"ProductSubcategoryID\").merge(\n",
    "    productcategory_df, how = \"left\", left_on = \"ProductCategoryID\", right_on = \"ProductCategoryID\").rename(\n",
    "    columns = {\"Name_x\" : \"ProductName\", \"Name_y\" : \"Subcategory\", \"Name\" : \"Category\"})"
   ],
   "metadata": {
    "collapsed": false,
    "pycharm": {
     "name": "#%%\n"
    }
   }
  },
  {
   "cell_type": "code",
   "execution_count": 49,
   "outputs": [],
   "source": [
    "## Combine sales data frames and product_merged_df for final data frame, rename columns appropriately\n",
    "## Left join product_merged_df from above to salesorderdetail_df on ProductID\n",
    "## Left join salesorderheader_df on SalesOrderID\n",
    "## Left join specialoffer_Df on SpecialOfferID\n",
    "## Left join salesterritory_df on TerritoryID\n",
    "final_merged_df = salesorderdetail_df.merge(product_merged_df, how = \"left\", left_on = \"ProductID\", right_on = \"ProductID\").merge(\n",
    "                  salesorderheader_df, how = \"left\", left_on = \"SalesOrderID\", right_on = \"SalesOrderID\").merge(\n",
    "                  specialoffer_df, how = \"left\", left_on = \"SpecialOfferID\", right_on = \"SpecialOfferID\").merge(\n",
    "                  salesterritory_df, how = \"left\", left_on = \"TerritoryID\", right_on = \"TerritoryID\").rename(\n",
    "                  columns = {\"Category_x\" : \"Category\", \"Description\" : \"DiscountDescription\", \"Type\" : \"DiscountType\",\n",
    "                  \"Category_y\" : \"DiscountCategory\", \"Name\" : \"TerritoryName\", \"Group\" : \"TerritoryGroup\"})"
   ],
   "metadata": {
    "collapsed": false,
    "pycharm": {
     "name": "#%%\n"
    }
   }
  },
  {
   "cell_type": "code",
   "execution_count": 50,
   "outputs": [],
   "source": [
    "## Delete unnecessary data frames\n",
    "del salesorderdetail_df, salesorderheader_df, salesterritory_df, specialoffer_df, productdetails_df, productcategory_df, productsubcategory_df, product_merged_df"
   ],
   "metadata": {
    "collapsed": false,
    "pycharm": {
     "name": "#%%\n"
    }
   }
  }
 ],
 "metadata": {
  "kernelspec": {
   "display_name": "Python 3",
   "language": "python",
   "name": "python3"
  },
  "language_info": {
   "codemirror_mode": {
    "name": "ipython",
    "version": 2
   },
   "file_extension": ".py",
   "mimetype": "text/x-python",
   "name": "python",
   "nbconvert_exporter": "python",
   "pygments_lexer": "ipython2",
   "version": "2.7.6"
  }
 },
 "nbformat": 4,
 "nbformat_minor": 0
}